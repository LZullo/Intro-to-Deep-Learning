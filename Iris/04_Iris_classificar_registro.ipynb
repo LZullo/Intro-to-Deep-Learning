{
  "nbformat": 4,
  "nbformat_minor": 0,
  "metadata": {
    "colab": {
      "name": "Iris_classificar_registro.ipynb",
      "provenance": []
    },
    "kernelspec": {
      "name": "python3",
      "display_name": "Python 3"
    },
    "language_info": {
      "name": "python"
    }
  },
  "cells": [
    {
      "cell_type": "code",
      "metadata": {
        "id": "LBI-imwyGAJB"
      },
      "source": [
        "import pandas as pd\n",
        "\n",
        "base = pd.read_csv('iris.csv')\n",
        "previsores=base.iloc[:, 0:4].values\n",
        "classe= base.iloc[:, 4].values"
      ],
      "execution_count": null,
      "outputs": []
    },
    {
      "cell_type": "code",
      "metadata": {
        "id": "sPrtEpOIGjfD"
      },
      "source": [
        "from sklearn.preprocessing import LabelEncoder\n",
        "\n",
        "labelencoder=LabelEncoder()\n",
        "classe=labelencoder.fit_transform(classe)"
      ],
      "execution_count": null,
      "outputs": []
    },
    {
      "cell_type": "code",
      "metadata": {
        "id": "kdZooBneGoSG"
      },
      "source": [
        "from tensorflow import keras\n",
        "from keras.models import Sequential\n",
        "from keras.layers import Dense,Dropout\n",
        "from keras.wrappers.scikit_learn import KerasClassifier\n",
        "from sklearn.model_selection import GridSearchCV\n",
        "from sklearn.model_selection import cross_val_score\n",
        "\n",
        "classificador = Sequential()\n",
        "classificador.add(Dense(units = 8, activation = 'relu', kernel_initializer = 'random_uniform', input_dim = 4))\n",
        "classificador.add(Dense(units = 3, activation = 'softmax'))\n",
        "classificador.compile(optimizer = 'sgd', loss = 'sparse_categorical_crossentropy', metrics = ['accuracy'])"
      ],
      "execution_count": null,
      "outputs": []
    },
    {
      "cell_type": "code",
      "metadata": {
        "id": "Ck6KAU31G6J8"
      },
      "source": [
        "classificador.fit(previsores,classe,batch_size=15, epochs=1000)"
      ],
      "execution_count": null,
      "outputs": []
    },
    {
      "cell_type": "markdown",
      "metadata": {
        "id": "s6yRJNfKLGmN"
      },
      "source": [
        "iris setosa : 1 0 0\n",
        "\n",
        "iris virginica: 0 1 0\n",
        "\n",
        "iris versicolor: 0 0 1\n",
        "\n",
        "Teste com dados fornecidos de uma iris-setosa:"
      ]
    },
    {
      "cell_type": "code",
      "metadata": {
        "id": "AzCXO0DDJkm3"
      },
      "source": [
        "import numpy as np\n",
        "novo=np.array([[5.1,3.5,1.4,0.2]])"
      ],
      "execution_count": null,
      "outputs": []
    },
    {
      "cell_type": "code",
      "metadata": {
        "colab": {
          "base_uri": "https://localhost:8080/"
        },
        "id": "vuAIUDQhKo4S",
        "outputId": "1e743d88-4d78-4c90-85ca-f8dcfb612f9b"
      },
      "source": [
        "previsao = classificador.predict(novo)\n",
        "previsao"
      ],
      "execution_count": null,
      "outputs": [
        {
          "output_type": "execute_result",
          "data": {
            "text/plain": [
              "array([[9.9921787e-01, 7.8206626e-04, 1.6760172e-18]], dtype=float32)"
            ]
          },
          "metadata": {},
          "execution_count": 9
        }
      ]
    },
    {
      "cell_type": "markdown",
      "metadata": {
        "id": "0HypCDMRLReq"
      },
      "source": [
        "Resposta Correta"
      ]
    },
    {
      "cell_type": "code",
      "metadata": {
        "colab": {
          "base_uri": "https://localhost:8080/"
        },
        "id": "eAzd2zLGKrfS",
        "outputId": "e2bb3512-11bc-4861-af7a-bd033b711f70"
      },
      "source": [
        "previsao = (previsao > 0.9)\n",
        "previsao"
      ],
      "execution_count": null,
      "outputs": [
        {
          "output_type": "execute_result",
          "data": {
            "text/plain": [
              "array([[ True, False, False]])"
            ]
          },
          "metadata": {},
          "execution_count": 10
        }
      ]
    }
  ]
}