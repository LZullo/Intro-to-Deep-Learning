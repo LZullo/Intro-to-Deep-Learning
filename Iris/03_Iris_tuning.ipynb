{
  "nbformat": 4,
  "nbformat_minor": 0,
  "metadata": {
    "colab": {
      "name": "Iris_tuning.ipynb",
      "provenance": []
    },
    "kernelspec": {
      "name": "python3",
      "display_name": "Python 3"
    },
    "language_info": {
      "name": "python"
    }
  },
  "cells": [
    {
      "cell_type": "code",
      "metadata": {
        "id": "Raol13zOa7YN"
      },
      "source": [
        "import pandas as pd\n",
        "\n",
        "base = pd.read_csv('iris.csv')\n",
        "base"
      ],
      "execution_count": null,
      "outputs": []
    },
    {
      "cell_type": "code",
      "metadata": {
        "id": "byMgNr9YbHTY"
      },
      "source": [
        "previsores=base.iloc[:, 0:4].values"
      ],
      "execution_count": null,
      "outputs": []
    },
    {
      "cell_type": "code",
      "metadata": {
        "id": "VoFEd3c7bRfq"
      },
      "source": [
        "classe= base.iloc[:, 4].values"
      ],
      "execution_count": null,
      "outputs": []
    },
    {
      "cell_type": "code",
      "metadata": {
        "id": "kToRqP9Y7dyU"
      },
      "source": [
        "from sklearn.preprocessing import LabelEncoder\n",
        "\n",
        "labelencoder=LabelEncoder()\n",
        "classe=labelencoder.fit_transform(classe)"
      ],
      "execution_count": null,
      "outputs": []
    },
    {
      "cell_type": "markdown",
      "metadata": {
        "id": "1h0vgWP9O5EF"
      },
      "source": [
        "###Descobrindo os melhores parametros"
      ]
    },
    {
      "cell_type": "code",
      "metadata": {
        "id": "99acJYZiAA99"
      },
      "source": [
        "from tensorflow import keras\n",
        "from keras.models import Sequential\n",
        "from keras.layers import Dense,Dropout\n",
        "from keras.wrappers.scikit_learn import KerasClassifier\n",
        "from sklearn.model_selection import GridSearchCV\n",
        "from sklearn.model_selection import cross_val_score\n",
        "\n",
        "def criar_rede(optimizer, kernel_initializer, activation, neurons, dropout):\n",
        "    classificador = Sequential()\n",
        "    classificador.add(Dense(units = neurons, activation = activation, \n",
        "                            kernel_initializer = kernel_initializer, input_dim = 4))\n",
        "    classificador.add(Dropout(dropout))\n",
        "    classificador.add(Dense(units = neurons, activation = activation, \n",
        "                            kernel_initializer = kernel_initializer))\n",
        "    classificador.add(Dropout(dropout))\n",
        "    classificador.add(Dense(units = 3, activation = 'softmax'))\n",
        "    classificador.compile(optimizer = optimizer, \n",
        "                          loss = 'sparse_categorical_crossentropy', \n",
        "                          metrics = ['accuracy'])\n",
        "    return classificador"
      ],
      "execution_count": null,
      "outputs": []
    },
    {
      "cell_type": "code",
      "metadata": {
        "id": "Ue6q8OHpoamv"
      },
      "source": [
        "#classificador = KerasClassifier(build_fn =criarRede)\n",
        "#parametros={'batch_size': [10,15],\n",
        "#            'epochs' : [500,1000],\n",
        "#            'optimizer': ['adam','sgd'],\n",
        "#            'loss' : ['sparse_categorical_crossentropy'],\n",
        "#            'kernel_initializer': ['random_uniform','normal'],\n",
        "#            'activation': ['relu'],\n",
        "#            'neurons': [4,8]}"
      ],
      "execution_count": null,
      "outputs": []
    },
    {
      "cell_type": "code",
      "metadata": {
        "id": "Ifbg6GfhoVf7"
      },
      "source": [
        "classificador = KerasClassifier(build_fn = criar_rede)\n",
        "parametros = {'batch_size': [10],\n",
        "              'epochs': [100],\n",
        "              'dropout': [0.2, 0.3],\n",
        "              'optimizer': ['adam', 'sgd'],\n",
        "              'kernel_initializer': ['random_uniform'],\n",
        "              'activation': ['relu'],\n",
        "              'neurons': [4, 8, 16]}"
      ],
      "execution_count": null,
      "outputs": []
    },
    {
      "cell_type": "markdown",
      "metadata": {
        "id": "TskLu2tjLzwW"
      },
      "source": [
        "####GridSearchCV"
      ]
    },
    {
      "cell_type": "code",
      "metadata": {
        "id": "hK_esjYk6Oxt"
      },
      "source": [
        "\n",
        "grid_search=GridSearchCV(estimator=classificador,\n",
        "                         param_grid=parametros, \n",
        "                         cv=2)\n",
        "grid_search=grid_search.fit(previsores,classe)\n",
        "melhores_parametros=grid_search.best_params_\n",
        "melhor_precisao=grid_search.best_score_"
      ],
      "execution_count": null,
      "outputs": []
    },
    {
      "cell_type": "code",
      "metadata": {
        "colab": {
          "base_uri": "https://localhost:8080/"
        },
        "id": "ZRuvav9mcEi2",
        "outputId": "39520e35-e1f4-4624-e2bf-1d9e54917dd5"
      },
      "source": [
        "melhores_parametros"
      ],
      "execution_count": null,
      "outputs": [
        {
          "output_type": "execute_result",
          "data": {
            "text/plain": [
              "{'activation': 'relu',\n",
              " 'batch_size': 15,\n",
              " 'epochs': 1000,\n",
              " 'kernel_initializer': 'random_uniform',\n",
              " 'loss': 'sparse_categorical_crossentropy',\n",
              " 'neurons': 8,\n",
              " 'optimizer': 'sgd'}"
            ]
          },
          "metadata": {},
          "execution_count": 62
        }
      ]
    },
    {
      "cell_type": "code",
      "metadata": {
        "colab": {
          "base_uri": "https://localhost:8080/"
        },
        "id": "7_0H50DEcIW-",
        "outputId": "5a727b7b-c512-4ff2-f7f5-764e03dcab13"
      },
      "source": [
        "melhor_precisao"
      ],
      "execution_count": null,
      "outputs": [
        {
          "output_type": "execute_result",
          "data": {
            "text/plain": [
              "0.9666666746139526"
            ]
          },
          "metadata": {},
          "execution_count": 63
        }
      ]
    }
  ]
}