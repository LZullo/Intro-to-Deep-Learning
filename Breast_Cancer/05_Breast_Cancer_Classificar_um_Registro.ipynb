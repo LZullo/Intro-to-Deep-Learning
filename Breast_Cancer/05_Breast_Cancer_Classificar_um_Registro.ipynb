{
  "nbformat": 4,
  "nbformat_minor": 0,
  "metadata": {
    "colab": {
      "name": "Breast_Cancer_Classificar_um_Registro.ipynb",
      "provenance": []
    },
    "kernelspec": {
      "name": "python3",
      "display_name": "Python 3"
    },
    "language_info": {
      "name": "python"
    }
  },
  "cells": [
    {
      "cell_type": "code",
      "metadata": {
        "colab": {
          "resources": {
            "http://localhost:8080/nbextensions/google.colab/files.js": {
              "data": "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",
              "ok": true,
              "headers": [
                [
                  "content-type",
                  "application/javascript"
                ]
              ],
              "status": 200,
              "status_text": ""
            }
          },
          "base_uri": "https://localhost:8080/",
          "height": 90
        },
        "id": "tBCNL89g9ss8",
        "outputId": "27980a4f-61d6-480f-ad42-48c26a123ebf"
      },
      "source": [
        "import pandas as pd\n",
        "from google.colab import files\n",
        "\n",
        "uploaded =files.upload()"
      ],
      "execution_count": 1,
      "outputs": [
        {
          "output_type": "display_data",
          "data": {
            "text/html": [
              "\n",
              "     <input type=\"file\" id=\"files-1f34037c-545e-4481-aa75-bbc003d6d4b3\" name=\"files[]\" multiple disabled\n",
              "        style=\"border:none\" />\n",
              "     <output id=\"result-1f34037c-545e-4481-aa75-bbc003d6d4b3\">\n",
              "      Upload widget is only available when the cell has been executed in the\n",
              "      current browser session. Please rerun this cell to enable.\n",
              "      </output>\n",
              "      <script src=\"/nbextensions/google.colab/files.js\"></script> "
            ],
            "text/plain": [
              "<IPython.core.display.HTML object>"
            ]
          },
          "metadata": {}
        },
        {
          "output_type": "stream",
          "name": "stdout",
          "text": [
            "Saving entradas_breast.csv to entradas_breast.csv\n"
          ]
        }
      ]
    },
    {
      "cell_type": "code",
      "metadata": {
        "id": "Qkhhcq3HXB_6"
      },
      "source": [
        "import io\n",
        "  \n",
        "previsores = pd.read_csv(io.BytesIO(uploaded['entradas_breast.csv']))"
      ],
      "execution_count": 3,
      "outputs": []
    },
    {
      "cell_type": "code",
      "metadata": {
        "colab": {
          "resources": {
            "http://localhost:8080/nbextensions/google.colab/files.js": {
              "data": "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",
              "ok": true,
              "headers": [
                [
                  "content-type",
                  "application/javascript"
                ]
              ],
              "status": 200,
              "status_text": ""
            }
          },
          "base_uri": "https://localhost:8080/",
          "height": 73
        },
        "id": "tLgE4prUXHId",
        "outputId": "79cc370f-6930-4d43-c23c-1726fb02a42c"
      },
      "source": [
        "uploaded =files.upload()"
      ],
      "execution_count": 4,
      "outputs": [
        {
          "output_type": "display_data",
          "data": {
            "text/html": [
              "\n",
              "     <input type=\"file\" id=\"files-17d07b8c-097e-4175-974b-d8a3affe00cd\" name=\"files[]\" multiple disabled\n",
              "        style=\"border:none\" />\n",
              "     <output id=\"result-17d07b8c-097e-4175-974b-d8a3affe00cd\">\n",
              "      Upload widget is only available when the cell has been executed in the\n",
              "      current browser session. Please rerun this cell to enable.\n",
              "      </output>\n",
              "      <script src=\"/nbextensions/google.colab/files.js\"></script> "
            ],
            "text/plain": [
              "<IPython.core.display.HTML object>"
            ]
          },
          "metadata": {}
        },
        {
          "output_type": "stream",
          "name": "stdout",
          "text": [
            "Saving saidas_breast.csv to saidas_breast.csv\n"
          ]
        }
      ]
    },
    {
      "cell_type": "code",
      "metadata": {
        "id": "dEMiTohCXOck"
      },
      "source": [
        "classe = pd.read_csv(io.BytesIO(uploaded['saidas_breast.csv']))"
      ],
      "execution_count": 5,
      "outputs": []
    },
    {
      "cell_type": "markdown",
      "metadata": {
        "id": "j_qT28TOYo-c"
      },
      "source": [
        "As validações utilizando as bases de teste foram feitas nos projetos anteriores portanto agora os melhores valores são colocados nos respectivos valores"
      ]
    },
    {
      "cell_type": "code",
      "metadata": {
        "colab": {
          "base_uri": "https://localhost:8080/"
        },
        "id": "tq__HfXWXTDy",
        "outputId": "51bf0e49-9353-4d35-9d15-5cba0a1e63cb"
      },
      "source": [
        "from tensorflow import keras\n",
        "from keras.models import Sequential\n",
        "from keras.layers import Dense,Dropout\n",
        "\n",
        "classificador=Sequential()\n",
        "\n",
        "#Primeira camada oculta\n",
        "classificador.add(Dense(units =8, activation= 'relu',\n",
        "                        kernel_initializer='normal', input_dim=30)) \n",
        "\n",
        "#camada de dropout, passando o parametro da porcentagem que eu quero zerar\n",
        "classificador.add(Dropout(0.2))\n",
        "\n",
        "#Segunda camada oculta  \n",
        "classificador.add(Dense(units =8, activation= 'relu', \n",
        "                        kernel_initializer='normal')) \n",
        "classificador.add(Dropout(0.2))\n",
        "\n",
        "#camada de saida\n",
        "classificador.add(Dense(units =1, activation= 'sigmoid')) \n",
        "\n",
        "classificador.compile(optimizer='adam', loss='binary_crossentropy', \n",
        "                      metrics=['binary_accuracy'])\n",
        "\n",
        "classificador.fit(previsores,classe,batch_size=10, epochs=100)"
      ],
      "execution_count": 7,
      "outputs": [
        {
          "output_type": "stream",
          "name": "stdout",
          "text": [
            "Epoch 1/100\n",
            "57/57 [==============================] - 1s 1ms/step - loss: 4.2470 - binary_accuracy: 0.5378\n",
            "Epoch 2/100\n",
            "57/57 [==============================] - 0s 1ms/step - loss: 0.9194 - binary_accuracy: 0.6274\n",
            "Epoch 3/100\n",
            "57/57 [==============================] - 0s 1ms/step - loss: 0.9586 - binary_accuracy: 0.6292\n",
            "Epoch 4/100\n",
            "57/57 [==============================] - 0s 1ms/step - loss: 0.6416 - binary_accuracy: 0.6221\n",
            "Epoch 5/100\n",
            "57/57 [==============================] - 0s 1ms/step - loss: 0.5692 - binary_accuracy: 0.6960\n",
            "Epoch 6/100\n",
            "57/57 [==============================] - 0s 1ms/step - loss: 0.5327 - binary_accuracy: 0.7241\n",
            "Epoch 7/100\n",
            "57/57 [==============================] - 0s 1ms/step - loss: 0.5192 - binary_accuracy: 0.7399\n",
            "Epoch 8/100\n",
            "57/57 [==============================] - 0s 1ms/step - loss: 0.5308 - binary_accuracy: 0.7645\n",
            "Epoch 9/100\n",
            "57/57 [==============================] - 0s 1ms/step - loss: 0.4945 - binary_accuracy: 0.7329\n",
            "Epoch 10/100\n",
            "57/57 [==============================] - 0s 1ms/step - loss: 0.4447 - binary_accuracy: 0.7680\n",
            "Epoch 11/100\n",
            "57/57 [==============================] - 0s 1ms/step - loss: 0.4430 - binary_accuracy: 0.7417\n",
            "Epoch 12/100\n",
            "57/57 [==============================] - 0s 1ms/step - loss: 0.4562 - binary_accuracy: 0.7750\n",
            "Epoch 13/100\n",
            "57/57 [==============================] - 0s 1ms/step - loss: 0.5216 - binary_accuracy: 0.7417\n",
            "Epoch 14/100\n",
            "57/57 [==============================] - 0s 1ms/step - loss: 0.4617 - binary_accuracy: 0.7873\n",
            "Epoch 15/100\n",
            "57/57 [==============================] - 0s 1ms/step - loss: 0.4312 - binary_accuracy: 0.7803\n",
            "Epoch 16/100\n",
            "57/57 [==============================] - 0s 1ms/step - loss: 0.4192 - binary_accuracy: 0.8155\n",
            "Epoch 17/100\n",
            "57/57 [==============================] - 0s 1ms/step - loss: 0.4012 - binary_accuracy: 0.8190\n",
            "Epoch 18/100\n",
            "57/57 [==============================] - 0s 1ms/step - loss: 0.4080 - binary_accuracy: 0.7891\n",
            "Epoch 19/100\n",
            "57/57 [==============================] - 0s 1ms/step - loss: 0.4037 - binary_accuracy: 0.8172\n",
            "Epoch 20/100\n",
            "57/57 [==============================] - 0s 1ms/step - loss: 0.4391 - binary_accuracy: 0.7786\n",
            "Epoch 21/100\n",
            "57/57 [==============================] - 0s 1ms/step - loss: 0.3767 - binary_accuracy: 0.8049\n",
            "Epoch 22/100\n",
            "57/57 [==============================] - 0s 1ms/step - loss: 0.4027 - binary_accuracy: 0.7856\n",
            "Epoch 23/100\n",
            "57/57 [==============================] - 0s 1ms/step - loss: 0.3904 - binary_accuracy: 0.8032\n",
            "Epoch 24/100\n",
            "57/57 [==============================] - 0s 1ms/step - loss: 0.3730 - binary_accuracy: 0.8137\n",
            "Epoch 25/100\n",
            "57/57 [==============================] - 0s 1ms/step - loss: 0.3942 - binary_accuracy: 0.7961\n",
            "Epoch 26/100\n",
            "57/57 [==============================] - 0s 1ms/step - loss: 0.3682 - binary_accuracy: 0.8278\n",
            "Epoch 27/100\n",
            "57/57 [==============================] - 0s 1ms/step - loss: 0.3783 - binary_accuracy: 0.8067\n",
            "Epoch 28/100\n",
            "57/57 [==============================] - 0s 1ms/step - loss: 0.3986 - binary_accuracy: 0.8260\n",
            "Epoch 29/100\n",
            "57/57 [==============================] - 0s 1ms/step - loss: 0.3789 - binary_accuracy: 0.8014\n",
            "Epoch 30/100\n",
            "57/57 [==============================] - 0s 1ms/step - loss: 0.3759 - binary_accuracy: 0.8067\n",
            "Epoch 31/100\n",
            "57/57 [==============================] - 0s 1ms/step - loss: 0.3462 - binary_accuracy: 0.8278\n",
            "Epoch 32/100\n",
            "57/57 [==============================] - 0s 1ms/step - loss: 0.3944 - binary_accuracy: 0.8172\n",
            "Epoch 33/100\n",
            "57/57 [==============================] - 0s 1ms/step - loss: 0.3615 - binary_accuracy: 0.8366\n",
            "Epoch 34/100\n",
            "57/57 [==============================] - 0s 1ms/step - loss: 0.3363 - binary_accuracy: 0.8366\n",
            "Epoch 35/100\n",
            "57/57 [==============================] - 0s 1ms/step - loss: 0.3263 - binary_accuracy: 0.8348\n",
            "Epoch 36/100\n",
            "57/57 [==============================] - 0s 1ms/step - loss: 0.3243 - binary_accuracy: 0.8506\n",
            "Epoch 37/100\n",
            "57/57 [==============================] - 0s 1ms/step - loss: 0.3720 - binary_accuracy: 0.8102\n",
            "Epoch 38/100\n",
            "57/57 [==============================] - 0s 1ms/step - loss: 0.3266 - binary_accuracy: 0.8330\n",
            "Epoch 39/100\n",
            "57/57 [==============================] - 0s 1ms/step - loss: 0.3108 - binary_accuracy: 0.8506\n",
            "Epoch 40/100\n",
            "57/57 [==============================] - 0s 1ms/step - loss: 0.3319 - binary_accuracy: 0.8260\n",
            "Epoch 41/100\n",
            "57/57 [==============================] - 0s 1ms/step - loss: 0.3468 - binary_accuracy: 0.8278\n",
            "Epoch 42/100\n",
            "57/57 [==============================] - 0s 1ms/step - loss: 0.3560 - binary_accuracy: 0.8102\n",
            "Epoch 43/100\n",
            "57/57 [==============================] - 0s 1ms/step - loss: 0.3443 - binary_accuracy: 0.8225\n",
            "Epoch 44/100\n",
            "57/57 [==============================] - 0s 1ms/step - loss: 0.3403 - binary_accuracy: 0.8383\n",
            "Epoch 45/100\n",
            "57/57 [==============================] - 0s 1ms/step - loss: 0.3476 - binary_accuracy: 0.8278\n",
            "Epoch 46/100\n",
            "57/57 [==============================] - 0s 1ms/step - loss: 0.3265 - binary_accuracy: 0.8243\n",
            "Epoch 47/100\n",
            "57/57 [==============================] - 0s 1ms/step - loss: 0.3172 - binary_accuracy: 0.8436\n",
            "Epoch 48/100\n",
            "57/57 [==============================] - 0s 1ms/step - loss: 0.3088 - binary_accuracy: 0.8506\n",
            "Epoch 49/100\n",
            "57/57 [==============================] - 0s 1ms/step - loss: 0.3101 - binary_accuracy: 0.8436\n",
            "Epoch 50/100\n",
            "57/57 [==============================] - 0s 1ms/step - loss: 0.3177 - binary_accuracy: 0.8524\n",
            "Epoch 51/100\n",
            "57/57 [==============================] - 0s 1ms/step - loss: 0.3018 - binary_accuracy: 0.8664\n",
            "Epoch 52/100\n",
            "57/57 [==============================] - 0s 1ms/step - loss: 0.3288 - binary_accuracy: 0.8295\n",
            "Epoch 53/100\n",
            "57/57 [==============================] - 0s 1ms/step - loss: 0.3296 - binary_accuracy: 0.8330\n",
            "Epoch 54/100\n",
            "57/57 [==============================] - 0s 1ms/step - loss: 0.2791 - binary_accuracy: 0.8576\n",
            "Epoch 55/100\n",
            "57/57 [==============================] - 0s 1ms/step - loss: 0.3368 - binary_accuracy: 0.8348\n",
            "Epoch 56/100\n",
            "57/57 [==============================] - 0s 1ms/step - loss: 0.3006 - binary_accuracy: 0.8524\n",
            "Epoch 57/100\n",
            "57/57 [==============================] - 0s 1ms/step - loss: 0.3104 - binary_accuracy: 0.8418\n",
            "Epoch 58/100\n",
            "57/57 [==============================] - 0s 1ms/step - loss: 0.3102 - binary_accuracy: 0.8418\n",
            "Epoch 59/100\n",
            "57/57 [==============================] - 0s 2ms/step - loss: 0.3196 - binary_accuracy: 0.8401\n",
            "Epoch 60/100\n",
            "57/57 [==============================] - 0s 1ms/step - loss: 0.3102 - binary_accuracy: 0.8594\n",
            "Epoch 61/100\n",
            "57/57 [==============================] - 0s 1ms/step - loss: 0.3292 - binary_accuracy: 0.8348\n",
            "Epoch 62/100\n",
            "57/57 [==============================] - 0s 1ms/step - loss: 0.3027 - binary_accuracy: 0.8260\n",
            "Epoch 63/100\n",
            "57/57 [==============================] - 0s 1ms/step - loss: 0.3192 - binary_accuracy: 0.8418\n",
            "Epoch 64/100\n",
            "57/57 [==============================] - 0s 1ms/step - loss: 0.2975 - binary_accuracy: 0.8489\n",
            "Epoch 65/100\n",
            "57/57 [==============================] - 0s 2ms/step - loss: 0.2996 - binary_accuracy: 0.8401\n",
            "Epoch 66/100\n",
            "57/57 [==============================] - 0s 1ms/step - loss: 0.3029 - binary_accuracy: 0.8436\n",
            "Epoch 67/100\n",
            "57/57 [==============================] - 0s 1ms/step - loss: 0.3035 - binary_accuracy: 0.8383\n",
            "Epoch 68/100\n",
            "57/57 [==============================] - 0s 1ms/step - loss: 0.3135 - binary_accuracy: 0.8366\n",
            "Epoch 69/100\n",
            "57/57 [==============================] - 0s 1ms/step - loss: 0.3017 - binary_accuracy: 0.8524\n",
            "Epoch 70/100\n",
            "57/57 [==============================] - 0s 1ms/step - loss: 0.3038 - binary_accuracy: 0.8541\n",
            "Epoch 71/100\n",
            "57/57 [==============================] - 0s 1ms/step - loss: 0.2881 - binary_accuracy: 0.8576\n",
            "Epoch 72/100\n",
            "57/57 [==============================] - 0s 1ms/step - loss: 0.2825 - binary_accuracy: 0.8629\n",
            "Epoch 73/100\n",
            "57/57 [==============================] - 0s 1ms/step - loss: 0.3312 - binary_accuracy: 0.8278\n",
            "Epoch 74/100\n",
            "57/57 [==============================] - 0s 1ms/step - loss: 0.3145 - binary_accuracy: 0.8524\n",
            "Epoch 75/100\n",
            "57/57 [==============================] - 0s 1ms/step - loss: 0.3210 - binary_accuracy: 0.8541\n",
            "Epoch 76/100\n",
            "57/57 [==============================] - 0s 1ms/step - loss: 0.2665 - binary_accuracy: 0.8647\n",
            "Epoch 77/100\n",
            "57/57 [==============================] - 0s 1ms/step - loss: 0.2850 - binary_accuracy: 0.8576\n",
            "Epoch 78/100\n",
            "57/57 [==============================] - 0s 1ms/step - loss: 0.2894 - binary_accuracy: 0.8717\n",
            "Epoch 79/100\n",
            "57/57 [==============================] - 0s 1ms/step - loss: 0.2944 - binary_accuracy: 0.8541\n",
            "Epoch 80/100\n",
            "57/57 [==============================] - 0s 1ms/step - loss: 0.2775 - binary_accuracy: 0.8664\n",
            "Epoch 81/100\n",
            "57/57 [==============================] - 0s 1ms/step - loss: 0.3061 - binary_accuracy: 0.8559\n",
            "Epoch 82/100\n",
            "57/57 [==============================] - 0s 1ms/step - loss: 0.2629 - binary_accuracy: 0.8541\n",
            "Epoch 83/100\n",
            "57/57 [==============================] - 0s 1ms/step - loss: 0.2988 - binary_accuracy: 0.8506\n",
            "Epoch 84/100\n",
            "57/57 [==============================] - 0s 1ms/step - loss: 0.2850 - binary_accuracy: 0.8559\n",
            "Epoch 85/100\n",
            "57/57 [==============================] - 0s 1ms/step - loss: 0.2767 - binary_accuracy: 0.8735\n",
            "Epoch 86/100\n",
            "57/57 [==============================] - 0s 1ms/step - loss: 0.2954 - binary_accuracy: 0.8313\n",
            "Epoch 87/100\n",
            "57/57 [==============================] - 0s 1ms/step - loss: 0.2979 - binary_accuracy: 0.8225\n",
            "Epoch 88/100\n",
            "57/57 [==============================] - 0s 1ms/step - loss: 0.2769 - binary_accuracy: 0.8840\n",
            "Epoch 89/100\n",
            "57/57 [==============================] - 0s 1ms/step - loss: 0.3257 - binary_accuracy: 0.8207\n",
            "Epoch 90/100\n",
            "57/57 [==============================] - 0s 1ms/step - loss: 0.3161 - binary_accuracy: 0.8453\n",
            "Epoch 91/100\n",
            "57/57 [==============================] - 0s 1ms/step - loss: 0.3013 - binary_accuracy: 0.8541\n",
            "Epoch 92/100\n",
            "57/57 [==============================] - 0s 1ms/step - loss: 0.2984 - binary_accuracy: 0.8559\n",
            "Epoch 93/100\n",
            "57/57 [==============================] - 0s 1ms/step - loss: 0.2778 - binary_accuracy: 0.8612\n",
            "Epoch 94/100\n",
            "57/57 [==============================] - 0s 1ms/step - loss: 0.3353 - binary_accuracy: 0.8313\n",
            "Epoch 95/100\n",
            "57/57 [==============================] - 0s 1ms/step - loss: 0.3007 - binary_accuracy: 0.8489\n",
            "Epoch 96/100\n",
            "57/57 [==============================] - 0s 1ms/step - loss: 0.2977 - binary_accuracy: 0.8541\n",
            "Epoch 97/100\n",
            "57/57 [==============================] - 0s 1ms/step - loss: 0.3207 - binary_accuracy: 0.8313\n",
            "Epoch 98/100\n",
            "57/57 [==============================] - 0s 1ms/step - loss: 0.2719 - binary_accuracy: 0.8629\n",
            "Epoch 99/100\n",
            "57/57 [==============================] - 0s 1ms/step - loss: 0.3240 - binary_accuracy: 0.8348\n",
            "Epoch 100/100\n",
            "57/57 [==============================] - 0s 1ms/step - loss: 0.2894 - binary_accuracy: 0.8506\n"
          ]
        },
        {
          "output_type": "execute_result",
          "data": {
            "text/plain": [
              "<keras.callbacks.History at 0x7febfaecec50>"
            ]
          },
          "metadata": {},
          "execution_count": 7
        }
      ]
    },
    {
      "cell_type": "markdown",
      "metadata": {
        "id": "pf5ZrNiKZQgN"
      },
      "source": [
        "Na variavel *classificador* ja tem-se a rede neural final, isto é, a estrutura da rede neural junto com o conjunto dos pesos.\n"
      ]
    },
    {
      "cell_type": "code",
      "metadata": {
        "colab": {
          "base_uri": "https://localhost:8080/"
        },
        "id": "8NJ4QS8hZjl6",
        "outputId": "cec0db0b-430c-4b00-9ebc-fde48a811d0e"
      },
      "source": [
        "import numpy as np\n",
        "\n",
        "#dados aleatorios dados aos 30 atributos (radius_mean,texture_mean,...)\n",
        "novo= np.array([[15.80, 8.34, 118, 900, 0.10, 0.26, 0.08, 0.134, 0.178,\n",
        "                  0.20, 0.05, 1098, 0.87, 4500, 145.2, 0.005, 0.04, 0.05, 0.015,\n",
        "                  0.03, 0.007, 23.15, 16.64, 178.5, 2018, 0.14, 0.185,\n",
        "                  0.84, 158, 0.363]])\n",
        "novo"
      ],
      "execution_count": 13,
      "outputs": [
        {
          "output_type": "execute_result",
          "data": {
            "text/plain": [
              "array([[1.580e+01, 8.340e+00, 1.180e+02, 9.000e+02, 1.000e-01, 2.600e-01,\n",
              "        8.000e-02, 1.340e-01, 1.780e-01, 2.000e-01, 5.000e-02, 1.098e+03,\n",
              "        8.700e-01, 4.500e+03, 1.452e+02, 5.000e-03, 4.000e-02, 5.000e-02,\n",
              "        1.500e-02, 3.000e-02, 7.000e-03, 2.315e+01, 1.664e+01, 1.785e+02,\n",
              "        2.018e+03, 1.400e-01, 1.850e-01, 8.400e-01, 1.580e+02, 3.630e-01]])"
            ]
          },
          "metadata": {},
          "execution_count": 13
        }
      ]
    },
    {
      "cell_type": "markdown",
      "metadata": {
        "id": "5v0qY-7ebCdG"
      },
      "source": [
        "Esses dados dão o resultado 1 (True), o que indica que é um tumor maligno"
      ]
    },
    {
      "cell_type": "code",
      "metadata": {
        "colab": {
          "base_uri": "https://localhost:8080/"
        },
        "id": "lD94gq0VawSg",
        "outputId": "fe87e79e-1d68-4708-8537-b798d379971d"
      },
      "source": [
        "previsao = classificador.predict(novo)\n",
        "previsao"
      ],
      "execution_count": 14,
      "outputs": [
        {
          "output_type": "execute_result",
          "data": {
            "text/plain": [
              "array([[1.]], dtype=float32)"
            ]
          },
          "metadata": {},
          "execution_count": 14
        }
      ]
    },
    {
      "cell_type": "code",
      "metadata": {
        "colab": {
          "base_uri": "https://localhost:8080/"
        },
        "id": "AT-73A5wa-of",
        "outputId": "091bc1e7-7e20-4e7c-dcb7-7f509d9a1686"
      },
      "source": [
        "previsao = (previsao > 0.9)\n",
        "previsao\n"
      ],
      "execution_count": 16,
      "outputs": [
        {
          "output_type": "execute_result",
          "data": {
            "text/plain": [
              "array([[ True]])"
            ]
          },
          "metadata": {},
          "execution_count": 16
        }
      ]
    }
  ]
}