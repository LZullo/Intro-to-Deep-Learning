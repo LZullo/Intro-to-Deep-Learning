{
  "nbformat": 4,
  "nbformat_minor": 0,
  "metadata": {
    "colab": {
      "name": "Funções_de_ativação.ipynb",
      "provenance": []
    },
    "kernelspec": {
      "name": "python3",
      "display_name": "Python 3"
    },
    "language_info": {
      "name": "python"
    }
  },
  "cells": [
    {
      "cell_type": "markdown",
      "metadata": {
        "id": "MwR6hao1JZsU"
      },
      "source": [
        "###Deep Learning com Python de A a Z \n",
        "\n",
        "Funções de ativação"
      ]
    },
    {
      "cell_type": "markdown",
      "metadata": {
        "id": "UdSNaQic_EML"
      },
      "source": [
        "Step (Função Degrau)\n",
        "\n",
        "Usada para problemas Linearmente separáveis\n",
        "\n",
        "Valor 0 ou 1"
      ]
    },
    {
      "cell_type": "code",
      "metadata": {
        "id": "6zM0M4Gp3k_5"
      },
      "source": [
        "import numpy as np\n",
        "#Transfer function\n",
        "def stepFunction(soma):\n",
        "  if (soma>=1):\n",
        "    return 1\n",
        "  return 0"
      ],
      "execution_count": 28,
      "outputs": []
    },
    {
      "cell_type": "code",
      "metadata": {
        "id": "URLSbmwy9SxJ"
      },
      "source": [
        "def sigmoidFunction(soma):\n",
        "  return 1/(1+np.exp(-soma))"
      ],
      "execution_count": 32,
      "outputs": []
    },
    {
      "cell_type": "code",
      "metadata": {
        "colab": {
          "base_uri": "https://localhost:8080/"
        },
        "id": "ktdUiwjz8Xlc",
        "outputId": "0adaf3d7-8088-4817-c403-a56209df688d"
      },
      "source": [
        "teste= stepFunction(2.1)\n",
        "teste\n"
      ],
      "execution_count": 34,
      "outputs": [
        {
          "output_type": "execute_result",
          "data": {
            "text/plain": [
              "1"
            ]
          },
          "metadata": {},
          "execution_count": 34
        }
      ]
    },
    {
      "cell_type": "markdown",
      "metadata": {
        "id": "kkWY_R2V-5pk"
      },
      "source": [
        "Função Sigmoide\n",
        "\n",
        "Usada para problemas de classificação binária\n",
        "\n",
        "Valores entre 0 e 1"
      ]
    },
    {
      "cell_type": "code",
      "metadata": {
        "colab": {
          "base_uri": "https://localhost:8080/"
        },
        "id": "t73HqTYj8uVL",
        "outputId": "e55e67fd-6aad-4d8e-99a6-2ff755367f28"
      },
      "source": [
        "\n",
        "#Quanto maior o valor, mais próximo de 1\n",
        "ativacao= sigmoidFunction(0.358)\n",
        "ativacao"
      ],
      "execution_count": 36,
      "outputs": [
        {
          "output_type": "execute_result",
          "data": {
            "text/plain": [
              "0.5885562043858291"
            ]
          },
          "metadata": {},
          "execution_count": 36
        }
      ]
    },
    {
      "cell_type": "markdown",
      "metadata": {
        "id": "YyyqJi7n-HQh"
      },
      "source": [
        "Função tangente hiperbólica\n",
        "\n",
        "Usada também para classificações\n",
        "\n",
        "Valores entre -1 e 1"
      ]
    },
    {
      "cell_type": "code",
      "metadata": {
        "id": "HtDAS56G-P98"
      },
      "source": [
        "def tahnFunction(soma):\n",
        "  return (np.exp(soma)- np.exp(-soma))/(np.exp(soma) + np.exp(-soma))"
      ],
      "execution_count": 18,
      "outputs": []
    },
    {
      "cell_type": "code",
      "metadata": {
        "colab": {
          "base_uri": "https://localhost:8080/"
        },
        "id": "Wp65rxdU-hV4",
        "outputId": "bdda5791-321e-4c5d-867f-1bea95498cd1"
      },
      "source": [
        "ativacao= tahnFunction(2.1)\n",
        "ativacao"
      ],
      "execution_count": 37,
      "outputs": [
        {
          "output_type": "execute_result",
          "data": {
            "text/plain": [
              "0.9704519366134541"
            ]
          },
          "metadata": {},
          "execution_count": 37
        }
      ]
    },
    {
      "cell_type": "markdown",
      "metadata": {
        "id": "xXq8VSJV_XpY"
      },
      "source": [
        "Rectified linear units (Função ReLU)\n",
        "\n",
        "Muito utilizada em redes neurais convolucionais\n",
        "\n",
        "Valores >= 0 (sem valor máximo)"
      ]
    },
    {
      "cell_type": "code",
      "metadata": {
        "id": "bdJq3upO_rvz"
      },
      "source": [
        "def reluFunction(soma):\n",
        "  if soma >=0 :\n",
        "    return soma\n",
        "  return 0"
      ],
      "execution_count": 22,
      "outputs": []
    },
    {
      "cell_type": "code",
      "metadata": {
        "colab": {
          "base_uri": "https://localhost:8080/"
        },
        "id": "NI0iA4FPAR-T",
        "outputId": "0ae05f3f-5fd2-4f55-e5e0-16d7a09abb7f"
      },
      "source": [
        "ativacao= reluFunction(2.1)\n",
        "ativacao"
      ],
      "execution_count": 38,
      "outputs": [
        {
          "output_type": "execute_result",
          "data": {
            "text/plain": [
              "2.1"
            ]
          },
          "metadata": {},
          "execution_count": 38
        }
      ]
    },
    {
      "cell_type": "markdown",
      "metadata": {
        "id": "dg9vhXHRAefn"
      },
      "source": [
        "Linear Function\n",
        "\n",
        "Muito utilizada em problemas de regressão\n",
        "\n"
      ]
    },
    {
      "cell_type": "code",
      "metadata": {
        "id": "FM-ESM_HAvND"
      },
      "source": [
        "def linearFunction(soma):\n",
        "    return soma\n"
      ],
      "execution_count": 26,
      "outputs": []
    },
    {
      "cell_type": "code",
      "metadata": {
        "colab": {
          "base_uri": "https://localhost:8080/"
        },
        "id": "P9zC-MOWA15B",
        "outputId": "aa3be12b-3a70-4bae-fa08-58c5ae9edd44"
      },
      "source": [
        "ativacao= linearFunction(0.358)\n",
        "ativacao"
      ],
      "execution_count": 27,
      "outputs": [
        {
          "output_type": "execute_result",
          "data": {
            "text/plain": [
              "0.358"
            ]
          },
          "metadata": {},
          "execution_count": 27
        }
      ]
    },
    {
      "cell_type": "markdown",
      "metadata": {
        "id": "pleRuCDSA6Pv"
      },
      "source": [
        "Função Softmax\n",
        "\n",
        "Utilizada para retornar probabilidades quando se tem problemas com mais de duas classes\n"
      ]
    },
    {
      "cell_type": "code",
      "metadata": {
        "id": "_68D9boxBGoa"
      },
      "source": [
        "def softmaxFunction(x):\n",
        "  ex=np.exp(x)\n",
        "  return ex/ex.sum()"
      ],
      "execution_count": 29,
      "outputs": []
    },
    {
      "cell_type": "code",
      "metadata": {
        "colab": {
          "base_uri": "https://localhost:8080/"
        },
        "id": "y4PJPHEgBwJd",
        "outputId": "7f0c4645-48b0-43e3-f77e-69717bfd17ab"
      },
      "source": [
        "valores=[5.0,2.0,1.3]\n",
        "print(softmaxFunction(valores))\n"
      ],
      "execution_count": 30,
      "outputs": [
        {
          "output_type": "stream",
          "name": "stdout",
          "text": [
            "[0.93065625 0.04633465 0.0230091 ]\n"
          ]
        }
      ]
    },
    {
      "cell_type": "code",
      "metadata": {
        "colab": {
          "base_uri": "https://localhost:8080/"
        },
        "id": "QS4rqQV_CDYN",
        "outputId": "4717749e-acc9-46c3-f8ff-111ff533cf5a"
      },
      "source": [
        "valores=[7.0,2.0,1.3]\n",
        "print(softmaxFunction(valores))"
      ],
      "execution_count": 31,
      "outputs": [
        {
          "output_type": "stream",
          "name": "stdout",
          "text": [
            "[0.99001676 0.00667068 0.00331256]\n"
          ]
        }
      ]
    },
    {
      "cell_type": "markdown",
      "metadata": {
        "id": "CYGa5lDvCdyS"
      },
      "source": [
        "Outras funções de ativação:\n",
        "\n",
        "https://keras.io/api/layers/activations/"
      ]
    }
  ]
}